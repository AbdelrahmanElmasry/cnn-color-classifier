{
 "cells": [
  {
   "cell_type": "code",
   "execution_count": 1,
   "id": "990acfa0",
   "metadata": {},
   "outputs": [
    {
     "name": "stderr",
     "output_type": "stream",
     "text": [
      "2023-12-20 22:09:27.654514: I tensorflow/core/util/util.cc:169] oneDNN custom operations are on. You may see slightly different numerical results due to floating-point round-off errors from different computation orders. To turn them off, set the environment variable `TF_ENABLE_ONEDNN_OPTS=0`.\n"
     ]
    }
   ],
   "source": [
    "import tensorflow as tf\n",
    "import numpy as np\n",
    "\n",
    "from tensorflow import keras\n",
    "from tensorflow.keras.preprocessing.image import load_img\n",
    "from tensorflow.keras.preprocessing.image import ImageDataGenerator\n",
    "from tensorflow.keras.applications.efficientnet import preprocess_input"
   ]
  },
  {
   "cell_type": "code",
   "execution_count": 3,
   "id": "4ad81828",
   "metadata": {},
   "outputs": [
    {
     "name": "stderr",
     "output_type": "stream",
     "text": [
      "2023-12-20 22:10:04.840323: I tensorflow/stream_executor/cuda/cuda_gpu_executor.cc:975] successful NUMA node read from SysFS had negative value (-1), but there must be at least one NUMA node, so returning NUMA node zero\n",
      "2023-12-20 22:10:04.847542: I tensorflow/stream_executor/cuda/cuda_gpu_executor.cc:975] successful NUMA node read from SysFS had negative value (-1), but there must be at least one NUMA node, so returning NUMA node zero\n",
      "2023-12-20 22:10:04.848169: I tensorflow/stream_executor/cuda/cuda_gpu_executor.cc:975] successful NUMA node read from SysFS had negative value (-1), but there must be at least one NUMA node, so returning NUMA node zero\n",
      "2023-12-20 22:10:04.849068: I tensorflow/core/platform/cpu_feature_guard.cc:193] This TensorFlow binary is optimized with oneAPI Deep Neural Network Library (oneDNN) to use the following CPU instructions in performance-critical operations:  AVX2 AVX512F AVX512_VNNI FMA\n",
      "To enable them in other operations, rebuild TensorFlow with the appropriate compiler flags.\n",
      "2023-12-20 22:10:04.849477: I tensorflow/stream_executor/cuda/cuda_gpu_executor.cc:975] successful NUMA node read from SysFS had negative value (-1), but there must be at least one NUMA node, so returning NUMA node zero\n",
      "2023-12-20 22:10:04.850056: I tensorflow/stream_executor/cuda/cuda_gpu_executor.cc:975] successful NUMA node read from SysFS had negative value (-1), but there must be at least one NUMA node, so returning NUMA node zero\n",
      "2023-12-20 22:10:04.850577: I tensorflow/stream_executor/cuda/cuda_gpu_executor.cc:975] successful NUMA node read from SysFS had negative value (-1), but there must be at least one NUMA node, so returning NUMA node zero\n",
      "2023-12-20 22:10:05.472985: I tensorflow/stream_executor/cuda/cuda_gpu_executor.cc:975] successful NUMA node read from SysFS had negative value (-1), but there must be at least one NUMA node, so returning NUMA node zero\n",
      "2023-12-20 22:10:05.473618: I tensorflow/stream_executor/cuda/cuda_gpu_executor.cc:975] successful NUMA node read from SysFS had negative value (-1), but there must be at least one NUMA node, so returning NUMA node zero\n",
      "2023-12-20 22:10:05.474148: I tensorflow/stream_executor/cuda/cuda_gpu_executor.cc:975] successful NUMA node read from SysFS had negative value (-1), but there must be at least one NUMA node, so returning NUMA node zero\n",
      "2023-12-20 22:10:05.474658: I tensorflow/core/common_runtime/gpu/gpu_device.cc:1532] Created device /job:localhost/replica:0/task:0/device:GPU:0 with 13795 MB memory:  -> device: 0, name: Tesla T4, pci bus id: 0000:00:1e.0, compute capability: 7.5\n"
     ]
    }
   ],
   "source": [
    "model = keras.models.load_model('./efficientnetb1_v1_49_0.691.h5')"
   ]
  },
  {
   "cell_type": "code",
   "execution_count": 7,
   "id": "4a67ea1b",
   "metadata": {},
   "outputs": [
    {
     "name": "stdout",
     "output_type": "stream",
     "text": [
      "Found 6239 files belonging to 12 classes.\n"
     ]
    }
   ],
   "source": [
    "# test_gen = ImageDataGenerator(preprocessing_function=preprocess_input)\n",
    "# test_ds = test_gen.flow_from_directory(\n",
    "#     './color-classifier/data/test',\n",
    "#     target_size=(299, 299),\n",
    "#     batch_size=32\n",
    "# )\n",
    "\n",
    "test_ds = tf.keras.preprocessing.image_dataset_from_directory(\n",
    "    './data/train/',\n",
    "    image_size=(299, 299),\n",
    "    batch_size=32,\n",
    "    label_mode=\"categorical\",\n",
    ")"
   ]
  },
  {
   "cell_type": "code",
   "execution_count": 8,
   "id": "d52bdd7e",
   "metadata": {},
   "outputs": [
    {
     "name": "stderr",
     "output_type": "stream",
     "text": [
      "2023-12-20 22:10:56.931951: I tensorflow/stream_executor/cuda/cuda_dnn.cc:384] Loaded cuDNN version 8100\n",
      "2023-12-20 22:10:57.545591: I tensorflow/core/platform/default/subprocess.cc:304] Start cannot spawn child process: No such file or directory\n",
      "2023-12-20 22:10:57.546101: I tensorflow/core/platform/default/subprocess.cc:304] Start cannot spawn child process: No such file or directory\n",
      "2023-12-20 22:10:57.546125: W tensorflow/stream_executor/gpu/asm_compiler.cc:80] Couldn't get ptxas version string: INTERNAL: Couldn't invoke ptxas --version\n",
      "2023-12-20 22:10:57.546746: I tensorflow/core/platform/default/subprocess.cc:304] Start cannot spawn child process: No such file or directory\n",
      "2023-12-20 22:10:57.546841: W tensorflow/stream_executor/gpu/redzone_allocator.cc:314] INTERNAL: Failed to launch ptxas\n",
      "Relying on driver to perform ptx compilation. \n",
      "Modify $PATH to customize ptxas location.\n",
      "This message will be only logged once.\n"
     ]
    },
    {
     "name": "stdout",
     "output_type": "stream",
     "text": [
      "195/195 [==============================] - 34s 149ms/step - loss: 0.4734 - accuracy: 0.8724\n"
     ]
    },
    {
     "data": {
      "text/plain": [
       "[0.47343114018440247, 0.8724154233932495]"
      ]
     },
     "execution_count": 8,
     "metadata": {},
     "output_type": "execute_result"
    }
   ],
   "source": [
    "# return loss value (CategoricalCrossEntropy) and accuracy metric\n",
    "model.evaluate(test_ds)"
   ]
  },
  {
   "cell_type": "code",
   "execution_count": 11,
   "id": "70580b1e",
   "metadata": {},
   "outputs": [
    {
     "name": "stdout",
     "output_type": "stream",
     "text": [
      "1/1 [==============================] - 0s 27ms/step\n"
     ]
    },
    {
     "data": {
      "text/plain": [
       "{'black': -6.610557,\n",
       " 'blue': -3.8168256,\n",
       " 'brown': -4.2920504,\n",
       " 'green': 1.3504324,\n",
       " 'grey': -4.747616,\n",
       " 'orange': 3.850803,\n",
       " 'pink': 0.101556234,\n",
       " 'purple': -0.6918626,\n",
       " 'red': -2.4467452,\n",
       " 'silver': -5.657035,\n",
       " 'white': -1.6534253,\n",
       " 'yellow': 5.958621}"
      ]
     },
     "execution_count": 11,
     "metadata": {},
     "output_type": "execute_result"
    }
   ],
   "source": [
    "## Apply the model to random image sample\n",
    "img_path = './data/test/1000000678.jpg'\n",
    "img = load_img(img_path, target_size = (299, 299, 3))\n",
    "img\n",
    "x = np.array(img)\n",
    "X = np.array([x])\n",
    "X.shape\n",
    "\n",
    "X = preprocess_input(X)\n",
    "pred = model.predict(X)\n",
    "# pred[0]\n",
    "\n",
    "classes = ['black',\n",
    " 'blue',\n",
    " 'brown',\n",
    " 'green',\n",
    " 'grey',\n",
    " 'orange',\n",
    " 'pink',\n",
    " 'purple',\n",
    " 'red',\n",
    " 'silver',\n",
    " 'white',\n",
    " 'yellow']\n",
    "\n",
    "dict(zip(classes, pred[0]))"
   ]
  },
  {
   "cell_type": "markdown",
   "id": "9db224eb",
   "metadata": {},
   "source": [
    "## Convert Keras to TF-lite model"
   ]
  },
  {
   "cell_type": "code",
   "execution_count": 12,
   "id": "1d8da468",
   "metadata": {},
   "outputs": [
    {
     "name": "stderr",
     "output_type": "stream",
     "text": [
      "WARNING:absl:Found untraced functions such as _jit_compiled_convolution_op, _jit_compiled_convolution_op, _jit_compiled_convolution_op, _jit_compiled_convolution_op, _jit_compiled_convolution_op while saving (showing 5 of 115). These functions will not be directly callable after loading.\n"
     ]
    },
    {
     "name": "stdout",
     "output_type": "stream",
     "text": [
      "INFO:tensorflow:Assets written to: /tmp/tmphpwkn10b/assets\n"
     ]
    },
    {
     "name": "stderr",
     "output_type": "stream",
     "text": [
      "INFO:tensorflow:Assets written to: /tmp/tmphpwkn10b/assets\n",
      "2023-12-20 22:14:26.499889: W tensorflow/compiler/mlir/lite/python/tf_tfl_flatbuffer_helpers.cc:362] Ignored output_format.\n",
      "2023-12-20 22:14:26.499935: W tensorflow/compiler/mlir/lite/python/tf_tfl_flatbuffer_helpers.cc:365] Ignored drop_control_dependency.\n",
      "2023-12-20 22:14:26.500666: I tensorflow/cc/saved_model/reader.cc:43] Reading SavedModel from: /tmp/tmphpwkn10b\n",
      "2023-12-20 22:14:26.582376: I tensorflow/cc/saved_model/reader.cc:81] Reading meta graph with tags { serve }\n",
      "2023-12-20 22:14:26.582416: I tensorflow/cc/saved_model/reader.cc:122] Reading SavedModel debug info (if present) from: /tmp/tmphpwkn10b\n",
      "2023-12-20 22:14:26.828610: I tensorflow/compiler/mlir/mlir_graph_optimization_pass.cc:354] MLIR V1 optimization pass is not enabled\n",
      "2023-12-20 22:14:26.912441: I tensorflow/cc/saved_model/loader.cc:228] Restoring SavedModel bundle.\n",
      "2023-12-20 22:14:27.935437: I tensorflow/cc/saved_model/loader.cc:212] Running initialization op on SavedModel bundle at path: /tmp/tmphpwkn10b\n",
      "2023-12-20 22:14:28.442608: I tensorflow/cc/saved_model/loader.cc:301] SavedModel load for tags { serve }; Status: success: OK. Took 1941945 microseconds.\n",
      "2023-12-20 22:14:29.517379: I tensorflow/compiler/mlir/tensorflow/utils/dump_mlir_util.cc:263] disabling MLIR crash reproducer, set env var `MLIR_CRASH_REPRODUCER_DIRECTORY` to enable.\n"
     ]
    }
   ],
   "source": [
    "model = keras.models.load_model('./efficientnetb1_v1_49_0.691.h5')\n",
    "\n",
    "converter = tf.lite.TFLiteConverter.from_keras_model(model)\n",
    "\n",
    "tflite_model = converter.convert()\n",
    "\n",
    "# save the model for TF lite\n",
    "with open('color-classifier-model.tflite', 'wb') as f:\n",
    "    f.write(tflite_model)"
   ]
  },
  {
   "cell_type": "code",
   "execution_count": 14,
   "id": "a491cf6d",
   "metadata": {},
   "outputs": [
    {
     "name": "stdout",
     "output_type": "stream",
     "text": [
      "total 402M\r\n",
      "-rw-r--r-- 1 jovyan jovyan  26M Dec 20 22:14 color-classifier-model.tflite\r\n",
      "-rw-rw-r-- 1 jovyan jovyan 681K Dec 20 22:08 color-classifier-model-training.ipynb\r\n",
      "-rw-rw---- 1 jovyan jovyan 484K Dec 20 13:44 core.5530\r\n",
      "drwxrwsr-x 4 jovyan jovyan 4.0K Dec 20 12:01 data\r\n",
      "-rw-rw-r-- 1 jovyan jovyan  52M Dec 20 11:58 data.zip\r\n",
      "-rw-rw-r-- 1 jovyan jovyan  28M Dec 20 13:41 efficientnetb1_v1_01_0.580.h5\r\n",
      "-rw-rw-r-- 1 jovyan jovyan  28M Dec 20 13:41 efficientnetb1_v1_02_0.622.h5\r\n",
      "-rw-rw-r-- 1 jovyan jovyan  28M Dec 20 13:42 efficientnetb1_v1_03_0.650.h5\r\n",
      "-rw-rw-r-- 1 jovyan jovyan  28M Dec 20 13:42 efficientnetb1_v1_04_0.670.h5\r\n",
      "-rw-rw-r-- 1 jovyan jovyan  28M Dec 20 13:43 efficientnetb1_v1_05_0.676.h5\r\n",
      "-rw-rw-r-- 1 jovyan jovyan  28M Dec 20 13:45 efficientnetb1_v1_10_0.683.h5\r\n",
      "-rw-rw-r-- 1 jovyan jovyan  28M Dec 20 14:08 efficientnetb1_v1_32_0.684.h5\r\n",
      "-rw-rw-r-- 1 jovyan jovyan  28M Dec 20 14:10 efficientnetb1_v1_37_0.689.h5\r\n",
      "-rw-rw-r-- 1 jovyan jovyan  28M Dec 20 14:11 efficientnetb1_v1_38_0.690.h5\r\n",
      "-rw-rw-r-- 1 jovyan jovyan  28M Dec 20 14:15 efficientnetb1_v1_46_0.690.h5\r\n",
      "-rw-rw-r-- 1 jovyan jovyan  28M Dec 20 14:16 efficientnetb1_v1_49_0.691.h5\r\n",
      "-rw-rw-r-- 1 jovyan jovyan  13K Dec 20 22:14 model.ipynb\r\n",
      "-rw-rw-r-- 1 jovyan jovyan  27M Dec 20 21:50 model_v1.h5\r\n",
      "-rw-rw-r-- 1 jovyan jovyan  214 Dec 20 19:13 Pipfile\r\n",
      "-rw-rw-r-- 1 jovyan jovyan  28K Dec 20 19:14 Pipfile.lock\r\n",
      "-rw-rw-r-- 1 jovyan jovyan 5.5K Dec 20 21:42 README.md\r\n"
     ]
    }
   ],
   "source": [
    "!ls -lh"
   ]
  },
  {
   "cell_type": "code",
   "execution_count": null,
   "id": "7acb6544",
   "metadata": {},
   "outputs": [],
   "source": []
  }
 ],
 "metadata": {
  "kernelspec": {
   "display_name": "saturn (Python 3)",
   "language": "python",
   "name": "python3"
  },
  "language_info": {
   "codemirror_mode": {
    "name": "ipython",
    "version": 3
   },
   "file_extension": ".py",
   "mimetype": "text/x-python",
   "name": "python",
   "nbconvert_exporter": "python",
   "pygments_lexer": "ipython3",
   "version": "3.9.13"
  }
 },
 "nbformat": 4,
 "nbformat_minor": 5
}
